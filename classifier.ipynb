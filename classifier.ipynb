{
 "cells": [
  {
   "cell_type": "markdown",
   "metadata": {},
   "source": [
    "# Libraries"
   ]
  },
  {
   "cell_type": "code",
   "execution_count": 1,
   "metadata": {},
   "outputs": [
    {
     "name": "stderr",
     "output_type": "stream",
     "text": [
      "2025-03-17 01:26:29.008631: E external/local_xla/xla/stream_executor/cuda/cuda_fft.cc:477] Unable to register cuFFT factory: Attempting to register factory for plugin cuFFT when one has already been registered\n",
      "WARNING: All log messages before absl::InitializeLog() is called are written to STDERR\n",
      "E0000 00:00:1742185589.024792  231197 cuda_dnn.cc:8310] Unable to register cuDNN factory: Attempting to register factory for plugin cuDNN when one has already been registered\n",
      "E0000 00:00:1742185589.029499  231197 cuda_blas.cc:1418] Unable to register cuBLAS factory: Attempting to register factory for plugin cuBLAS when one has already been registered\n",
      "2025-03-17 01:26:29.046072: I tensorflow/core/platform/cpu_feature_guard.cc:210] This TensorFlow binary is optimized to use available CPU instructions in performance-critical operations.\n",
      "To enable the following instructions: AVX2 FMA, in other operations, rebuild TensorFlow with the appropriate compiler flags.\n"
     ]
    }
   ],
   "source": [
    "import numpy as np\n",
    "import tensorflow as tf\n",
    "import keras.api as keras\n",
    "from keras.api.layers import Activation, Dense, Input, Rescaling, Flatten, Dropout, Softmax\n",
    "import matplotlib.pyplot as plt"
   ]
  },
  {
   "cell_type": "markdown",
   "metadata": {},
   "source": [
    "# Functions"
   ]
  },
  {
   "cell_type": "code",
   "execution_count": 2,
   "metadata": {},
   "outputs": [],
   "source": [
    "def create_classifier():\n",
    "\n",
    "    input = Input((32,32,3))\n",
    "    x = Rescaling(1/255.)(input)\n",
    "\n",
    "    model = keras.applications.VGG16(\n",
    "        include_top=False,\n",
    "        weights=None,\n",
    "        input_tensor=x,\n",
    "    )\n",
    "\n",
    "    x = model.output\n",
    "    x = Flatten()(x)\n",
    "    x = Dropout(.5)(x)\n",
    "    x = Dense(10)(x)\n",
    "    x = Softmax()(x)\n",
    "\n",
    "    return keras.Model(input,x)"
   ]
  },
  {
   "cell_type": "markdown",
   "metadata": {},
   "source": [
    "# Dataset"
   ]
  },
  {
   "cell_type": "code",
   "execution_count": 3,
   "metadata": {},
   "outputs": [
    {
     "name": "stderr",
     "output_type": "stream",
     "text": [
      "I0000 00:00:1742185593.204709  231197 gpu_device.cc:2022] Created device /job:localhost/replica:0/task:0/device:GPU:0 with 9937 MB memory:  -> device: 0, name: NVIDIA GeForce RTX 3060, pci bus id: 0000:01:00.0, compute capability: 8.6\n"
     ]
    }
   ],
   "source": [
    "(x_train,y_train),(x_test,y_test) = keras.datasets.cifar10.load_data()\n",
    "\n",
    "train_ds = tf.data.Dataset.from_tensor_slices((x_train,y_train)).cache().shuffle(x_train.shape[0]).batch(128,drop_remainder=True)\n",
    "val_ds = tf.data.Dataset.from_tensor_slices((x_test,y_test)).cache().shuffle(x_test.shape[0]).batch(128,drop_remainder=True)"
   ]
  },
  {
   "cell_type": "markdown",
   "metadata": {},
   "source": [
    "# Compiling model"
   ]
  },
  {
   "cell_type": "code",
   "execution_count": 4,
   "metadata": {},
   "outputs": [],
   "source": [
    "model = create_classifier()\n",
    "\n",
    "model.compile(\n",
    "    optimizer=keras.optimizers.Adam(1e-4),\n",
    "    loss=keras.losses.SparseCategoricalCrossentropy(),\n",
    "    metrics=[keras.metrics.SparseCategoricalAccuracy(name='acc')],\n",
    ")"
   ]
  },
  {
   "cell_type": "markdown",
   "metadata": {},
   "source": [
    "# Training Model"
   ]
  },
  {
   "cell_type": "code",
   "execution_count": 5,
   "metadata": {},
   "outputs": [
    {
     "name": "stdout",
     "output_type": "stream",
     "text": [
      "Epoch 1/15\n"
     ]
    },
    {
     "name": "stderr",
     "output_type": "stream",
     "text": [
      "WARNING: All log messages before absl::InitializeLog() is called are written to STDERR\n",
      "I0000 00:00:1742185596.717568  231290 service.cc:148] XLA service 0x7ce82001bcb0 initialized for platform CUDA (this does not guarantee that XLA will be used). Devices:\n",
      "I0000 00:00:1742185596.717591  231290 service.cc:156]   StreamExecutor device (0): NVIDIA GeForce RTX 3060, Compute Capability 8.6\n",
      "2025-03-17 01:26:36.779160: I tensorflow/compiler/mlir/tensorflow/utils/dump_mlir_util.cc:268] disabling MLIR crash reproducer, set env var `MLIR_CRASH_REPRODUCER_DIRECTORY` to enable.\n",
      "I0000 00:00:1742185597.165542  231290 cuda_dnn.cc:529] Loaded cuDNN version 90300\n",
      "I0000 00:00:1742185604.415882  231290 device_compiler.h:188] Compiled cluster using XLA!  This line is logged at most once for the lifetime of the process.\n"
     ]
    },
    {
     "name": "stdout",
     "output_type": "stream",
     "text": [
      "390/390 - 30s - 78ms/step - acc: 0.2718 - loss: 1.8748 - val_acc: 0.4114 - val_loss: 1.5406\n",
      "Epoch 2/15\n",
      "390/390 - 19s - 48ms/step - acc: 0.4550 - loss: 1.4545 - val_acc: 0.5025 - val_loss: 1.3519\n",
      "Epoch 3/15\n",
      "390/390 - 19s - 48ms/step - acc: 0.5615 - loss: 1.2025 - val_acc: 0.5892 - val_loss: 1.1065\n",
      "Epoch 4/15\n",
      "390/390 - 19s - 48ms/step - acc: 0.6328 - loss: 1.0291 - val_acc: 0.6607 - val_loss: 0.9529\n",
      "Epoch 5/15\n",
      "390/390 - 19s - 48ms/step - acc: 0.6797 - loss: 0.8983 - val_acc: 0.6798 - val_loss: 0.8931\n",
      "Epoch 6/15\n",
      "390/390 - 19s - 48ms/step - acc: 0.7218 - loss: 0.7804 - val_acc: 0.6945 - val_loss: 0.8683\n",
      "Epoch 7/15\n",
      "390/390 - 19s - 48ms/step - acc: 0.7602 - loss: 0.6817 - val_acc: 0.7208 - val_loss: 0.8252\n",
      "Epoch 8/15\n",
      "390/390 - 19s - 48ms/step - acc: 0.7932 - loss: 0.5912 - val_acc: 0.7245 - val_loss: 0.8146\n",
      "Epoch 9/15\n",
      "390/390 - 19s - 48ms/step - acc: 0.8279 - loss: 0.4945 - val_acc: 0.7476 - val_loss: 0.7875\n",
      "Epoch 10/15\n",
      "390/390 - 19s - 48ms/step - acc: 0.8547 - loss: 0.4188 - val_acc: 0.7489 - val_loss: 0.7759\n",
      "Epoch 11/15\n",
      "390/390 - 19s - 48ms/step - acc: 0.8848 - loss: 0.3386 - val_acc: 0.7472 - val_loss: 0.8323\n",
      "Epoch 12/15\n",
      "390/390 - 19s - 48ms/step - acc: 0.9060 - loss: 0.2783 - val_acc: 0.7423 - val_loss: 0.9068\n",
      "Epoch 13/15\n",
      "390/390 - 19s - 48ms/step - acc: 0.9228 - loss: 0.2296 - val_acc: 0.7467 - val_loss: 0.9350\n",
      "Epoch 14/15\n",
      "390/390 - 19s - 48ms/step - acc: 0.9368 - loss: 0.1871 - val_acc: 0.7509 - val_loss: 0.9509\n",
      "Epoch 15/15\n",
      "390/390 - 19s - 48ms/step - acc: 0.9488 - loss: 0.1539 - val_acc: 0.7596 - val_loss: 0.9626\n"
     ]
    },
    {
     "data": {
      "text/plain": [
       "<keras.src.callbacks.history.History at 0x7ce9624dba00>"
      ]
     },
     "execution_count": 5,
     "metadata": {},
     "output_type": "execute_result"
    }
   ],
   "source": [
    "model.fit(\n",
    "    train_ds,\n",
    "    validation_data=val_ds,\n",
    "    epochs=15,\n",
    "    verbose=2,\n",
    ")"
   ]
  }
 ],
 "metadata": {
  "kernelspec": {
   "display_name": "project_venv",
   "language": "python",
   "name": "python3"
  },
  "language_info": {
   "codemirror_mode": {
    "name": "ipython",
    "version": 3
   },
   "file_extension": ".py",
   "mimetype": "text/x-python",
   "name": "python",
   "nbconvert_exporter": "python",
   "pygments_lexer": "ipython3",
   "version": "3.10.12"
  }
 },
 "nbformat": 4,
 "nbformat_minor": 2
}
